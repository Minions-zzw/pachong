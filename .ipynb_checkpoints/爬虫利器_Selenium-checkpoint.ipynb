{
 "cells": [
  {
   "cell_type": "code",
   "execution_count": 2,
   "metadata": {},
   "outputs": [],
   "source": [
    "from selenium import webdriver\n",
    "driver = webdriver.Chrome()  # 创建一个 Chrome WebDriver 实例\n",
    "driver.get('https://www.baidu.com/')  # 打开网址"
   ]
  },
  {
   "cell_type": "code",
   "execution_count": null,
   "metadata": {},
   "outputs": [],
   "source": [
    "data = {'first': 'true', 'pn': page, 'kd': lang_name}"
   ]
  },
  {
   "cell_type": "code",
   "execution_count": 14,
   "metadata": {},
   "outputs": [],
   "source": [
    "import requests\n",
    "\n",
    "def get_json(url, page, lang_name):\n",
    "    headers = {\n",
    "        'path' = '/jobs/positionAjax.json?needAddtionalResult=false',\n",
    "        \n",
    "       'Host': 'www.lagou.com',\n",
    "       'Connection': 'keep-alive',\n",
    "       'content-length': '25',\n",
    "       'Origin': 'https://www.lagou.com',\n",
    "       'X-Anit-Forge-Code': '0',\n",
    "       'User-Agent': 'Mozilla/5.0 (Windows NT 10.0; Win64; x64) AppleWebKit/537.36 (KHTML, like Gecko) Chrome/89.0.4389.114 Safari/537.36',\n",
    "       'Content-Type': 'application/x-www-form-urlencoded; charset=UTF-8',\n",
    "       'Accept': 'application/json, text/javascript, */*; q=0.01',\n",
    "       'X-Requested-With': 'XMLHttpRequest',\n",
    "       'X-Anit-Forge-Token': 'None',\n",
    "       'Referer': 'https://www.lagou.com/jobs/list_python?city=%E5%85%A8%E5%9B%BD&cl=false&fromSearch=true&labelWords=&suginput=',\n",
    "       'Accept-Encoding': 'gzip, deflate, br',\n",
    "       'Accept-Language': 'en-US,en;q=0.9,zh-CN;q=0.8,zh;q=0.7'\n",
    "    }\n",
    "    data = {'first': 'true', 'pn': page, 'kd': lang_name}\n",
    "    json = requests.post(url, data, headers=headers).json()\n",
    "#    list_con = json['content']['positionResult']['result']\n",
    "#    info_list = []\n",
    "#    for i in list_con:\n",
    "#        info = []\n",
    "#        info.append(i.get('companyShortName', '无'))\n",
    "#        info.append(i.get('companyFullName', '无'))\n",
    "#        info.append(i.get('industryField', '无'))\n",
    "#        info.append(i.get('companySize', '无'))\n",
    "#        info.append(i.get('salary', '无'))\n",
    "#        info.append(i.get('city', '无'))\n",
    "#        info.append(i.get('education', '无'))\n",
    "#        info_list.append(info)\n",
    "    return json"
   ]
  },
  {
   "cell_type": "code",
   "execution_count": 18,
   "metadata": {},
   "outputs": [
    {
     "name": "stdout",
     "output_type": "stream",
     "text": [
      "{'status': False, 'msg': '您操作太频繁,请稍后再访问', 'clientIp': '219.155.76.221', 'state': 2402}\n"
     ]
    }
   ],
   "source": [
    "url = 'https://www.lagou.com/jobs/positionAjax.json?needAddtionalResult=false'\n",
    "result = get_json(url,1,'python')\n",
    "print(result)"
   ]
  },
  {
   "cell_type": "code",
   "execution_count": 11,
   "metadata": {},
   "outputs": [
    {
     "name": "stdout",
     "output_type": "stream",
     "text": [
      "{'status': False, 'msg': '您操作太频繁,请稍后再访问', 'clientIp': '122.206.190.88', 'state': 2402}\n"
     ]
    }
   ],
   "source": []
  },
  {
   "cell_type": "code",
   "execution_count": null,
   "metadata": {},
   "outputs": [],
   "source": []
  },
  {
   "cell_type": "code",
   "execution_count": null,
   "metadata": {},
   "outputs": [],
   "source": []
  },
  {
   "cell_type": "code",
   "execution_count": null,
   "metadata": {},
   "outputs": [],
   "source": []
  },
  {
   "cell_type": "code",
   "execution_count": null,
   "metadata": {},
   "outputs": [],
   "source": []
  }
 ],
 "metadata": {
  "kernelspec": {
   "display_name": "Python 3",
   "language": "python",
   "name": "python3"
  },
  "language_info": {
   "codemirror_mode": {
    "name": "ipython",
    "version": 3
   },
   "file_extension": ".py",
   "mimetype": "text/x-python",
   "name": "python",
   "nbconvert_exporter": "python",
   "pygments_lexer": "ipython3",
   "version": "3.7.9"
  },
  "toc": {
   "base_numbering": 1,
   "nav_menu": {},
   "number_sections": true,
   "sideBar": true,
   "skip_h1_title": false,
   "title_cell": "Table of Contents",
   "title_sidebar": "Contents",
   "toc_cell": false,
   "toc_position": {},
   "toc_section_display": true,
   "toc_window_display": false
  }
 },
 "nbformat": 4,
 "nbformat_minor": 4
}
