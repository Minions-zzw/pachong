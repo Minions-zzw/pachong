{
 "cells": [
  {
   "cell_type": "code",
   "execution_count": 2,
   "metadata": {},
   "outputs": [],
   "source": [
    "from selenium import webdriver\n",
    "driver = webdriver.Chrome()  # 创建一个 Chrome WebDriver 实例\n",
    "driver.get('https://www.baidu.com/')  # 打开网址"
   ]
  },
  {
   "cell_type": "code",
   "execution_count": 40,
   "metadata": {},
   "outputs": [
    {
     "ename": "KeyError",
     "evalue": "'content'",
     "output_type": "error",
     "traceback": [
      "\u001b[1;31m---------------------------------------------------------------------------\u001b[0m",
      "\u001b[1;31mKeyError\u001b[0m                                  Traceback (most recent call last)",
      "\u001b[1;32m<ipython-input-40-ba9a617e2dbc>\u001b[0m in \u001b[0;36m<module>\u001b[1;34m()\u001b[0m\n\u001b[0;32m     23\u001b[0m \u001b[0mresponse\u001b[0m\u001b[1;33m.\u001b[0m\u001b[0mencoding\u001b[0m \u001b[1;33m=\u001b[0m \u001b[0mresponse\u001b[0m\u001b[1;33m.\u001b[0m\u001b[0mapparent_encoding\u001b[0m\u001b[1;33m\u001b[0m\u001b[1;33m\u001b[0m\u001b[0m\n\u001b[0;32m     24\u001b[0m \u001b[0mtext\u001b[0m \u001b[1;33m=\u001b[0m \u001b[0mjson\u001b[0m\u001b[1;33m.\u001b[0m\u001b[0mloads\u001b[0m\u001b[1;33m(\u001b[0m\u001b[0mresponse\u001b[0m\u001b[1;33m.\u001b[0m\u001b[0mtext\u001b[0m\u001b[1;33m)\u001b[0m\u001b[1;33m\u001b[0m\u001b[1;33m\u001b[0m\u001b[0m\n\u001b[1;32m---> 25\u001b[1;33m \u001b[0minfo\u001b[0m \u001b[1;33m=\u001b[0m \u001b[0mtext\u001b[0m\u001b[1;33m[\u001b[0m\u001b[1;34m\"content\"\u001b[0m\u001b[1;33m]\u001b[0m\u001b[1;33m[\u001b[0m\u001b[1;34m\"positionResult\"\u001b[0m\u001b[1;33m]\u001b[0m\u001b[1;33m[\u001b[0m\u001b[1;34m\"result\"\u001b[0m\u001b[1;33m]\u001b[0m\u001b[1;33m\u001b[0m\u001b[1;33m\u001b[0m\u001b[0m\n\u001b[0m",
      "\u001b[1;31mKeyError\u001b[0m: 'content'"
     ]
    }
   ],
   "source": [
    "import requests\n",
    "import time\n",
    "import json\n",
    "\n",
    "\n",
    "url_start = \"https://www.lagou.com/jobs/list_运维?city=%E6%88%90%E9%83%BD&cl=false&fromSearch=true&labelWords=&suginput=\"\n",
    "url_parse = \"https://www.lagou.com/jobs/positionAjax.json?city=成都&needAddtionalResult=false\"\n",
    "headers = {\n",
    "    'Accept': 'application/json, text/javascript, */*; q=0.01',\n",
    "    'Referer': 'https://www.lagou.com/jobs/list_%E8%BF%90%E7%BB%B4?city=%E6%88%90%E9%83%BD&cl=false&fromSearch=true&labelWords=&suginput=',\n",
    "    'User-Agent': 'Mozilla/5.0 (Windows NT 10.0; Win64; x64) AppleWebKit/537.36 (KHTML, like Gecko) Chrome/72.0.3626.121 Safari/537.36'\n",
    "}\n",
    "data = {\n",
    "    'first': 'true',\n",
    "    'pn': 1,\n",
    "    'kd': '运维'\n",
    "        }\n",
    "s = requests.Session()\n",
    "s.get(url_start, headers=headers, timeout=3)  # 请求首页获取cookies\n",
    "cookie = s.cookies  # 为此次获取的cookies\n",
    "response = s.post(url_parse, data=data, headers=headers, cookies=cookie, timeout=3)  # 获取此次文本\n",
    "time.sleep(5)\n",
    "response.encoding = response.apparent_encoding\n",
    "text = json.loads(response.text)\n",
    "info = text[\"content\"][\"positionResult\"][\"result\"]"
   ]
  },
  {
   "cell_type": "code",
   "execution_count": 42,
   "metadata": {},
   "outputs": [
    {
     "name": "stdout",
     "output_type": "stream",
     "text": [
      "{'status': False, 'msg': 'ntaccess deny ', 'clientIp': '122.206.190.88', 'state': 2410}\n"
     ]
    }
   ],
   "source": [
    "print(text)"
   ]
  },
  {
   "cell_type": "code",
   "execution_count": null,
   "metadata": {},
   "outputs": [],
   "source": []
  },
  {
   "cell_type": "code",
   "execution_count": null,
   "metadata": {},
   "outputs": [],
   "source": []
  },
  {
   "cell_type": "code",
   "execution_count": null,
   "metadata": {},
   "outputs": [],
   "source": []
  },
  {
   "cell_type": "code",
   "execution_count": 38,
   "metadata": {},
   "outputs": [],
   "source": [
    "import requests\n",
    "import uuid\n",
    "def get_uuid():\n",
    "    return str(uuid.uuid4())\n",
    "\n",
    "def get_json(url, page, lang_name,cookie):\n",
    "    payload = \"first=false&pn=\" + str(page) + \"&kd=Java\"\n",
    "    #cookie = \"JSESSIONID=\" + get_uuid() + \"; user_trace_token=\" + get_uuid() + \"; LGUID=\"    + get_uuid() + \"; index_location_city=%E6%88%90%E9%83%BD; SEARCH_ID=\"    + get_uuid() + '; _gid=GA1.2.717841549.1514043316; _ga=GA1.2.952298646.1514043316; LGSID='    + get_uuid() + \"; LGRID=\" + get_uuid() + \"; \"\n",
    "\n",
    "    headers = {\n",
    "       'x-anit-forge-code': \"0\",\n",
    "       'path' : '/jobs/positionAjax.json?needAddtionalResult=false',\n",
    "       'Host': 'www.lagou.com',\n",
    "       'connection': \"keep-alive\",\n",
    "       'content-length': '25',\n",
    "       'Origin': 'https://www.lagou.com',\n",
    "       'User-Agent': 'Mozilla/5.0 (Windows NT 10.0; Win64; x64) AppleWebKit/537.36 (KHTML, like Gecko) Chrome/89.0.4389.114 Safari/537.36',\n",
    "       'content-type': \"application/x-www-form-urlencoded; charset=UTF-8\",\n",
    "       'accept': \"application/json, text/javascript, */*; q=0.01\",\n",
    "       'x-requested-with': \"XMLHttpRequest\",\n",
    "       'X-Anit-Forge-Token': 'None',\n",
    "       'Referer': 'https://www.lagou.com/jobs/list_python/p-city_0?&cl=false&fromSearch=true&labelWords=&suginput=',\n",
    "       'accept-encoding': \"gzip, deflate, br\",\n",
    "       'accept-language': \"zh-CN,zh;q=0.8,en;q=0.6\",\n",
    "    }\n",
    "    data = {'first': 'true', 'pn': page, 'kd': lang_name}\n",
    "    json = requests.post(url, data, headers=headers, cookies=cookie, timeout=3).json()\n",
    "#    list_con = json['content']['positionResult']['result']\n",
    "#    info_list = []\n",
    "#    for i in list_con:\n",
    "#        info = []\n",
    "#        info.append(i.get('companyShortName', '无'))\n",
    "#        info.append(i.get('companyFullName', '无'))\n",
    "#        info.append(i.get('industryField', '无'))\n",
    "#        info.append(i.get('companySize', '无'))\n",
    "#        info.append(i.get('salary', '无'))\n",
    "#        info.append(i.get('city', '无'))\n",
    "#        info.append(i.get('education', '无'))\n",
    "#        info_list.append(info)\n",
    "    return json"
   ]
  },
  {
   "cell_type": "code",
   "execution_count": 36,
   "metadata": {},
   "outputs": [],
   "source": [
    "url_start = \"https://www.lagou.com/jobs/list_运维?city=%E6%88%90%E9%83%BD&cl=false&fromSearch=true&labelWords=&suginput=\"\n",
    "url_parse = \"https://www.lagou.com/jobs/positionAjax.json?city=成都&needAddtionalResult=false\"\n",
    "headers = {\n",
    "    'Accept': 'application/json, text/javascript, */*; q=0.01',\n",
    "    'Referer': 'https://www.lagou.com/jobs/list_%E8%BF%90%E7%BB%B4?city=%E6%88%90%E9%83%BD&cl=false&fromSearch=true&labelWords=&suginput=',\n",
    "    'User-Agent': 'Mozilla/5.0 (Windows NT 10.0; Win64; x64) AppleWebKit/537.36 (KHTML, like Gecko) Chrome/89.0.4389.114 Safari/537.36'\n",
    "}\n",
    "s = requests.Session()\n",
    "s.get(url_start, headers=headers, timeout=3)  # 请求首页获取cookies\n",
    "cookie = s.cookies  # 为此次获取的cookies"
   ]
  },
  {
   "cell_type": "code",
   "execution_count": 39,
   "metadata": {},
   "outputs": [
    {
     "name": "stdout",
     "output_type": "stream",
     "text": [
      "{'status': False, 'msg': 'ntaccess deny ', 'clientIp': '122.206.190.88', 'state': 2410}\n"
     ]
    }
   ],
   "source": [
    "url = 'https://www.lagou.com/jobs/positionAjax.json?needAddtionalResult=false'\n",
    "result = get_json(url,1,'python',cookie)\n",
    "print(result)"
   ]
  },
  {
   "cell_type": "code",
   "execution_count": 25,
   "metadata": {},
   "outputs": [
    {
     "name": "stdout",
     "output_type": "stream",
     "text": [
      "<RequestsCookieJar[<Cookie X_HTTP_TOKEN=42daf4b72327b2817183828161bf5e71415983ed09 for .lagou.com/>, <Cookie user_trace_token=20210413111657-303002d4-def0-4fd9-95f5-4fc7a15cc9d4 for .lagou.com/>]>\n"
     ]
    }
   ],
   "source": [
    "print(cookie)"
   ]
  },
  {
   "cell_type": "code",
   "execution_count": null,
   "metadata": {},
   "outputs": [],
   "source": []
  },
  {
   "cell_type": "code",
   "execution_count": null,
   "metadata": {},
   "outputs": [],
   "source": []
  },
  {
   "cell_type": "code",
   "execution_count": null,
   "metadata": {},
   "outputs": [],
   "source": []
  }
 ],
 "metadata": {
  "kernelspec": {
   "display_name": "Python 3",
   "language": "python",
   "name": "python3"
  },
  "language_info": {
   "codemirror_mode": {
    "name": "ipython",
    "version": 3
   },
   "file_extension": ".py",
   "mimetype": "text/x-python",
   "name": "python",
   "nbconvert_exporter": "python",
   "pygments_lexer": "ipython3",
   "version": "3.7.9"
  },
  "toc": {
   "base_numbering": 1,
   "nav_menu": {},
   "number_sections": true,
   "sideBar": true,
   "skip_h1_title": false,
   "title_cell": "Table of Contents",
   "title_sidebar": "Contents",
   "toc_cell": false,
   "toc_position": {},
   "toc_section_display": true,
   "toc_window_display": false
  }
 },
 "nbformat": 4,
 "nbformat_minor": 4
}
