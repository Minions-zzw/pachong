{
 "cells": [
  {
   "cell_type": "code",
   "execution_count": 1,
   "metadata": {},
   "outputs": [
    {
     "name": "stdout",
     "output_type": "stream",
     "text": [
      "dvly\n",
      "b\n",
      "9\n",
      "35\n",
      "[0. 0. 0. 0. 0. 0. 0. 0. 0. 1. 0. 0. 0. 0. 0. 0. 0. 0. 0. 0. 0. 0. 0. 0.\n",
      " 0. 0. 0. 0. 0. 0. 0. 0. 0. 0. 0. 0. 0. 0. 0. 0. 0. 0. 0. 0. 0. 1. 0. 0.\n",
      " 0. 0. 0. 0. 0. 0. 0. 0. 0. 0. 0. 0. 0. 0. 0. 0. 0. 0. 0. 0. 0. 0. 0. 0.\n",
      " 0. 0. 0. 0. 0. 0. 0. 0. 0. 1. 0. 0. 0. 0. 0. 0. 0. 0. 0. 0. 0. 0. 0. 0.\n",
      " 0. 0. 0. 0. 0. 0. 0. 0. 0.]\n"
     ]
    }
   ],
   "source": [
    "# vocab.py #用于管理验证码词汇\n",
    "import random\n",
    "import numpy as np\n",
    "'''\n",
    "    A default vocab implementation and base class, to provide random letters and numbers.\n",
    "'''\n",
    "class Vocab():\n",
    "    def __init__(self):\n",
    "        self.vocab = \"123456789abcdefghijklmnopqrstuvwxyz\"\n",
    "        self.size = len(self.vocab)\n",
    "        indices = range(self.size)\n",
    "        self.index = dict(zip(self.vocab, indices))\n",
    "    # return random string by given length\n",
    "    def rand_string(self, length):\n",
    "        # if len(vocab) == 0 raise exception\n",
    "        return \"\".join(random.sample(self.vocab, length))\n",
    "    # get symbol (char in vocabulary) by its ordinal\n",
    "    def get_sym(self, idx):\n",
    "        # if idx >= len(self.vocab) raise exception\n",
    "        return self.vocab[idx]\n",
    "    # given a symbol, return its ordinal in given vocabulary.\n",
    "    def get_index(self, sym):\n",
    "        return self.index[sym]\n",
    "    # given 'abc', return [10, 11, 12]\n",
    "    def to_indices(self, text):\n",
    "        return [self.index[c] for c in text]\n",
    "    # given [10, 11, 12], return 'abc'\n",
    "    def to_text(self, indices):\n",
    "        return \"\".join([self.vocab[i] for i in indices])\n",
    "    # given '01', return vector [1 0 0 0 0 0 0 0 0 0 ... 0 \\n 0 1 0 0 0 0 ... 0]\n",
    "    def text_to_one_hot(self, text):\n",
    "        num_labels = np.array(self.to_indices(text))\n",
    "        n = len(text)\n",
    "        categorical = np.zeros((n, self.size))\n",
    "        categorical[np.arange(n), num_labels] = 1\n",
    "        return categorical.ravel()\n",
    "    # translate one hot vector to text.\n",
    "    def one_hot_to_text(self, onehots):\n",
    "        text_len = onehots.shape[0] // self.size\n",
    "        onehots = np.reshape(onehots, (text_len, self.size))\n",
    "        indices = np.argmax(onehots, axis = 1)\n",
    "        return self.to_text(indices)\n",
    "if __name__ == \"__main__\":\n",
    "    # test code\n",
    "    vocab = Vocab()\n",
    "    print(vocab.rand_string(4))\n",
    "    print(vocab.get_sym(10))\n",
    "    print(vocab.get_index('a'))\n",
    "    print(vocab.size)\n",
    "    print(vocab.text_to_one_hot(\"abc\"))"
   ]
  },
  {
   "cell_type": "code",
   "execution_count": 10,
   "metadata": {},
   "outputs": [
    {
     "name": "stdout",
     "output_type": "stream",
     "text": [
      "Xid7\n"
     ]
    }
   ],
   "source": [
    "# PIL是一个常用的python图像库。在python 3.5中， 应该使用pip install pillow来安装\n",
    "from PIL import Image, ImageFont, ImageDraw, ImageFilter\n",
    "import random\n",
    "from vocab import Vocab\n",
    "class Captcha:\n",
    "    '''\n",
    "    size: width, height in pixel\n",
    "    font: font family(string), size (unit pound) and font color (in \"#rrggbb\" format)\n",
    "    bgcolor: in \"#rrggbb\" format\n",
    "    '''\n",
    "    def __init__(self, size, font, bgcolor, length = 4):\n",
    "        #todo: add param check and transform here\n",
    "        self.width, self.height = size\n",
    "        self.font_family, self.font_size, self.font_color = font\n",
    "        self.bgcolor = bgcolor\n",
    "        self.len = length\n",
    "        self.vocab = Vocab()\n",
    "        self.font = ImageFont.truetype(self.font_family, self.font_size)\n",
    "    def get_text(self):\n",
    "        return self.vocab.rand_string(self.len)\n",
    "    # by default, draw center align text\n",
    "    def draw_text(self, str):\n",
    "        dr = ImageDraw.Draw(self.im)\n",
    "        font_width, font_height = self.font.getsize(str)\n",
    "        # don't know why, but for center align, I should divide it by 2, other than 3\n",
    "        dr.text(((self.width - font_width) / 3, (self.height - font_height) / 3), str, fill = self.font_color, font = self.font)\n",
    "    def draw_background(self):\n",
    "        pass\n",
    "    def transform(self):\n",
    "        params = [1 - float(random.randint(1, 2)) / 100,\n",
    "                  0,\n",
    "                  0,\n",
    "                  0,\n",
    "                  1 - float(random.randint(1, 10)) / 100,\n",
    "                  float(random.randint(1, 2)) / 500,\n",
    "                  0.001,\n",
    "                  float(random.randint(1, 2)) / 500\n",
    "                  ]\n",
    "        self.im = self.im.transform((self.width, self.height), Image.PERSPECTIVE, params)\n",
    "    def filter(self):\n",
    "        self.im.filter(ImageFilter.EDGE_ENHANCE_MORE)\n",
    "    # by default, add no noises\n",
    "    def add_noise(self):\n",
    "        pass\n",
    "    def get_captcha(self):\n",
    "        self.im = Image.new(\"RGB\", (self.width, self.height), (self.bgcolor))\n",
    "        self.draw_background()\n",
    "        str = self.get_text()\n",
    "        self.draw_text(str)\n",
    "        #self.add_noise()\n",
    "        #dself.transform()\n",
    "        self.filter()\n",
    "        return self.im, str\n",
    "class JrttCaptcha(Captcha):\n",
    "    def __init__(self, size = (60, 25), font = (\"courbd.ttf\", 20, \"#0000ff\"), bgcolor = (255, 255, 255), dot_rate = 0.05):\n",
    "        Captcha.__init__(self, size, font, bgcolor)\n",
    "        self.dot_rate = dot_rate\n",
    "    def add_noise(self):\n",
    "        # add lines\n",
    "        nb_lines = random.randint(1, 2)\n",
    "        dr = ImageDraw.Draw(self.im)\n",
    "        for i in range(nb_lines):\n",
    "            # 避免begin和end太靠近，导致生成的干扰线太短\n",
    "            begin = (random.randint(0, self.width)/2, random.randint(0, self.height)/2)\n",
    "            end = (random.randint(self.width / 2, self.width), random.randint(0, self.height))\n",
    "            dr.line([begin, end], fill = (0, 0, 0))\n",
    "        # add dots\n",
    "        for w in range(self.width):\n",
    "            for h in range(self.height):\n",
    "                if random.randint(0, 100) / 100 <= self.dot_rate:\n",
    "                    dr.point((w, h), fill = (0, 0, 0))\n",
    "    def draw_text(self, str):\n",
    "        display_text = [\" \"] * (len(str) * 2 - 1)\n",
    "        for i in range(len(str)):\n",
    "            display_text[i * 2] = str[i]\n",
    "        super().draw_text(str)\n",
    "if __name__ == \"__main__\":\n",
    "    cap = JrttCaptcha()\n",
    "    #每调用一次，生成一个<图像,文本>对。其中图象可看成是输入，而文本可以看成是真值\n",
    "    img, text = cap.get_captcha()\n",
    "    img.save(text +\"_\" +str(random.randint(0,100)) + \".jpg\")\n",
    "    print(text)"
   ]
  },
  {
   "cell_type": "code",
   "execution_count": 1,
   "metadata": {},
   "outputs": [],
   "source": [
    "import cv2\n",
    "import os\n",
    "from __future__ import print_function, division\n",
    "import torch\n",
    "import torch.nn as nn\n",
    "import torch.nn.functional as F\n",
    "import torch.optim as optim\n",
    "from torchvision import datasets, transforms\n",
    "import torch\n",
    "import pandas as pd\n",
    "import numpy as np\n",
    "import matplotlib.pyplot as plt\n",
    "from torch.utils.data import Dataset, DataLoader\n",
    "from torchvision import transforms, utils\n",
    "import torch.utils.data as tud\n",
    "import pdb\n",
    "import random\n",
    "import struct\n",
    "import gzip"
   ]
  },
  {
   "cell_type": "code",
   "execution_count": 3,
   "metadata": {},
   "outputs": [],
   "source": [
    "# import cv2\n",
    "# import os\n",
    "# def find_file_name(file_dir):#获取文件夹下所有文件名\n",
    "#     for root, dirs, files in os.walk(file_dir):\n",
    "#         return files\n",
    "# files_name = find_file_name('data')\n",
    "\n",
    "\n",
    "# for n in range(300):\n",
    "#     img = cv2.imread('data/'+files_name[n])\n",
    "#     for i in range(4):\n",
    "#         cropped = img[0:25, 15*(i):15*(i+1)]  # 裁剪坐标为[y0:y1, x0:x1]\n",
    "#         cv2.imwrite(\"data/one/\"+str(n)+\"_\"+str(i)+\"_\"+str(files_name[n][i])+\".jpg\", cropped)"
   ]
  },
  {
   "cell_type": "code",
   "execution_count": 4,
   "metadata": {},
   "outputs": [],
   "source": [
    "from PIL import Image\n",
    "import cv2\n",
    "import numpy as np\n",
    "import os\n",
    "def judge(img):\n",
    "    for i in range(15):\n",
    "        img[0][i] = 255\n",
    "        img[24][i] = 255\n",
    "    for i in range(25):\n",
    "        img[i][0] = 255\n",
    "        img[i][14] = 255\n",
    "    for x in range(23):\n",
    "        x = x+1\n",
    "        for y in range(13):\n",
    "            y = y+1\n",
    "            m = 0\n",
    "            if(0 == img[x-1][y-1]):\n",
    "                m = m+1\n",
    "            if(0 == img[x-1][y]):\n",
    "                m = m+1\n",
    "            if(0 == img[x-1][y+1]):\n",
    "                m = m+1\n",
    "            if(0 == img[x][y-1]):\n",
    "                m = m+1\n",
    "            if(0 == img[x][y+1]):\n",
    "                m = m+1\n",
    "            if(0 == img[x+1][y-1]):\n",
    "                m = m+1\n",
    "            if(0 == img[x+1][y]):\n",
    "                m = m+1\n",
    "            if(0 == img[x+1][y+1]):\n",
    "                m = m+1\n",
    "            if m<3:\n",
    "                img[x][y] = 255\n",
    "    for x in range(23-1,-1,-1):\n",
    "        x = x+1\n",
    "        for y in range(13-1,-1,-1):\n",
    "            y = y+1\n",
    "            m = 0\n",
    "            if(0 == img[x-1][y-1]):\n",
    "                m = m+1\n",
    "            if(0 == img[x-1][y]):\n",
    "                m = m+1\n",
    "            if(0 == img[x-1][y+1]):\n",
    "                m = m+1\n",
    "            if(0 == img[x][y-1]):\n",
    "                m = m+1\n",
    "            if(0 == img[x][y+1]):\n",
    "                m = m+1\n",
    "            if(0 == img[x+1][y-1]):\n",
    "                m = m+1\n",
    "            if(0 == img[x+1][y]):\n",
    "                m = m+1\n",
    "            if(0 == img[x+1][y+1]):\n",
    "                m = m+1\n",
    "            if m<3:\n",
    "                img[x][y] = 255\n",
    "    return img\n",
    "def find_file_name(file_dir):#获取文件夹下所有文件名\n",
    "    for root, dirs, files in os.walk(file_dir):\n",
    "        return files\n",
    "#全局阈值\n",
    "def threshold_demo(image):#二值化函数\n",
    "    gray = cv2.cvtColor(image, cv2.COLOR_RGB2GRAY) #把输入图像灰度化\n",
    "    #直接阈值化是对输入的单通道矩阵逐像素进行阈值分割。\n",
    "#     ret, binary = cv2.threshold(gray, 0, 255, cv2.THRESH_BINARY | cv2.THRESH_TRIANGLE)\n",
    "#     print(\"threshold value %s\"%ret)\n",
    "    binary = gray\n",
    "    return binary\n",
    "if torch.cuda.is_available():\n",
    "    DEVICE = torch.device(\"cuda\")\n",
    "else:\n",
    "    DEVICE = torch.device(\"cpu\")\n",
    "files_name = find_file_name('data/one')#获取所有文件名\n",
    "# src = cv2.imread('data/one/'+files_name[0])\n",
    "CEL = True #CEL 代表CrossEntropyLoss 此loss方程需要需要的结果y和其他loss方程不一样（单维），所以需要另外处理\n",
    "add = [255 for i in range(125)]\n",
    "add = np.array(add)\n",
    "add = add.reshape(25,5)\n",
    "data_image = [[np.c_[add,judge(threshold_demo(cv2.imread('data/one/'+n))),add]] for n in files_name]#生成二值化之后的数据#其中做了judge，去噪，拼接矩阵#这一行非常复杂，需要理解很久\n",
    "data_lable = [n.split(\"_\")[2][0] for n in files_name]\n",
    "ind = \"123456789abcdefghijklmnopqrstuvwxyz\"\n",
    "data_lable = [ind.index(n) for n in data_lable]#转换成数字标签\n",
    "datas = np.array(data_image) #datas的类型从list转换为numpy\n",
    "lable = np.array(data_lable) #lable的类型从list转换为numpy\n",
    "lable = lable.astype(np.int) #把lable里面数据强转为int\n",
    "datas = datas.astype(np.float32) #把atas里面数据强转为float32\n",
    "training_image = torch.from_numpy(datas) #把datas变成torch类型的矩阵(torch可以使用gpu)\n",
    "training_lable = torch.from_numpy(lable) #同理"
   ]
  },
  {
   "cell_type": "code",
   "execution_count": 6,
   "metadata": {},
   "outputs": [
    {
     "name": "stdout",
     "output_type": "stream",
     "text": [
      "101_3_4.jpg\n",
      "[1, 7, 11, 2, 12, 11, 5, 30, 12, 12, 4, 3, 12, 16, 22, 12, 12, 18, 19, 4, 12, 22, 10, 6, 12, 25, 33, 33, 12, 27, 32, 13, 12, 28, 15, 33, 12, 30, 11, 31, 12, 31, 27, 33, 2, 17, 26, 32, 13, 7, 18, 26, 13, 24, 30, 27, 13, 31, 2, 12, 14, 1, 14, 27, 14, 3, 14, 13, 14, 10, 24, 4, 14, 11, 33, 25, 14, 12, 9, 1, 14, 14, 6, 1, 14, 22, 31, 11, 2, 18, 25, 15, 14, 24, 10, 30, 14, 27, 1, 33, 14, 32, 30, 13, 14, 34, 27, 3, 15, 5, 26, 25, 15, 7, 18, 27, 15, 16, 32, 30, 15, 18, 3, 2, 15, 18, 19, 2, 15, 24, 24, 18, 2, 26, 12, 16, 15, 26, 10, 27, 16, 3, 7, 16, 16, 6, 13, 5, 16, 11, 34, 7, 16, 17, 28, 2, 16, 18, 15, 10, 16, 18, 15, 31, 16, 22, 3, 14, 16, 27, 16, 19, 16, 30, 25, 29, 3, 1, 1, 1, 17, 1, 15, 30, 17, 14, 13, 30, 17, 17, 24, 1, 17, 27, 9, 21, 17, 32, 32, 26, 17, 32, 32, 32, 18, 6, 2, 5, 18, 12, 10, 1, 18, 25, 16, 33, 19, 7, 18, 31, 3, 5, 4, 6, 19, 10, 14, 15, 19, 13, 30, 10, 19, 17, 17, 11, 19, 24, 6, 3, 19, 26, 30, 2, 19, 27, 14, 21, 19, 30, 1, 12, 19, 32, 14, 1, 21, 2, 31, 14, 21, 5, 4, 12, 3, 5, 7, 7, 21, 5, 4, 21, 21, 6, 16, 26, 21, 9, 2, 13, 21, 18, 4, 5, 22, 12, 12, 33, 22, 15, 15, 13, 22, 24, 3, 6, 22, 24, 34, 27, 22, 27, 10, 34, 22, 28, 1, 1, 3, 12, 13, 1, 22, 30, 16, 21, 24, 1, 24, 5, 24, 4, 28, 28, 24, 5, 21, 11, 24, 9, 2, 31, 24, 19, 9, 18, 24, 19, 27, 24, 24, 25, 27, 9, 24, 27, 12, 5, 24, 27, 29, 4, 3, 17, 8, 32, 24, 34, 27, 14, 25, 1, 29, 10, 25, 3, 22, 18, 25, 3, 34, 2, 25, 5, 8, 3, 25, 5, 12, 14, 25, 7, 30, 5, 25, 16, 18, 4, 25, 16, 27, 16, 25, 18, 14, 21, 3, 22, 3, 21, 25, 22, 14, 13, 25, 25, 13, 33, 25, 32, 4, 3, 26, 7, 3, 13, 26, 12, 7, 6, 26, 14, 7, 2, 26, 17, 12, 17, 26, 18, 34, 31, 26, 19, 12, 17, 26, 21, 2, 10, 3, 24, 27, 4, 1, 15, 1, 26, 26, 22, 5, 1, 26, 25, 17, 12, 26, 26, 21, 12, 26, 30, 28, 32, 26, 33, 34, 26, 27, 12, 4, 29, 27, 13, 2, 15, 27, 14, 7, 26, 27, 15, 11, 14, 27, 18, 33, 10, 3, 31, 13, 1, 27, 24, 3, 4, 27, 26, 21, 32, 27, 28, 30, 32, 28, 3, 9, 18, 28, 4, 34, 34, 28, 8, 7, 31, 28, 10, 25, 7, 28, 10, 26, 14, 28, 12, 4, 5, 28, 12, 33, 15, 4, 1, 33, 18, 28, 13, 22, 14, 28, 17, 22, 7, 28, 18, 4, 4, 28, 18, 28, 21, 28, 19, 5, 32, 28, 21, 18, 19, 28, 22, 17, 13, 28, 24, 6, 27, 28, 27, 1, 5, 28, 28, 1, 8, 4, 3, 28, 28, 28, 28, 32, 12, 29, 1, 5, 33, 29, 1, 13, 30, 29, 2, 6, 16, 29, 3, 3, 26, 29, 3, 26, 26, 29, 10, 5, 29, 29, 10, 15, 29, 29, 12, 31, 7, 29, 13, 21, 29, 4, 4, 8, 29, 29, 18, 17, 3, 29, 19, 10, 4, 29, 21, 16, 22, 29, 26, 22, 6, 29, 27, 24, 3, 29, 27, 33, 14, 29, 29, 32, 3, 29, 33, 15, 10, 30, 1, 15, 17, 30, 2, 7, 19, 4, 4, 33, 14, 30, 2, 34, 22, 30, 5, 6, 2, 30, 6, 25, 10, 30, 7, 19, 6, 30, 15, 16, 8, 30, 31, 8, 11, 31, 4, 1, 22, 31, 7, 29, 4, 31, 8, 9, 15, 31, 14, 4, 16, 4, 6, 25, 24, 31, 16, 1, 10, 31, 16, 3, 15, 31, 16, 19, 34, 31, 17, 14, 8, 31, 21, 5, 28, 31, 21, 33, 24, 31, 26, 33, 7, 31, 30, 3, 13, 31, 32, 34, 21, 32, 12, 21, 27, 4, 9, 29, 19, 32, 14, 6, 22, 32, 14, 26, 13, 32, 18, 12, 18, 32, 22, 6, 17, 32, 25, 5, 30, 32, 25, 32, 34, 32, 26, 21, 34, 32, 29, 33, 27, 32, 31, 13, 7, 32, 34, 13, 32, 4, 14, 29, 16, 33, 4, 34, 28, 33, 6, 10, 31, 33, 7, 16, 15, 33, 9, 30, 18, 33, 19, 30, 15, 33, 22, 5, 9, 33, 24, 31, 34, 33, 26, 32, 21, 33, 31, 16, 32, 33, 33, 4, 14, 4, 15, 8, 24, 34, 1, 1, 34, 34, 1, 34, 4, 34, 7, 11, 7, 34, 7, 29, 30, 34, 13, 16, 27, 34, 16, 14, 6, 34, 18, 16, 13, 34, 18, 31, 29, 34, 24, 5, 32, 34, 32, 24, 33, 4, 17, 9, 1, 1, 15, 3, 27, 4, 18, 22, 25, 4, 19, 34, 30, 4, 28, 10, 19, 5, 3, 10, 34, 5, 9, 9, 30, 5, 12, 7, 18, 5, 22, 6, 5, 5, 25, 12, 31, 5, 25, 15, 21, 5, 26, 2, 15, 1, 21, 24, 10, 5, 31, 7, 26, 6, 6, 22, 8, 6, 10, 2, 22, 6, 10, 17, 7, 6, 16, 27, 10, 7, 3, 17, 2, 7, 4, 26, 6, 7, 8, 21, 3, 7, 11, 34, 22, 7, 12, 15, 17, 1, 25, 4, 6, 7, 14, 24, 2, 7, 14, 25, 3, 7, 16, 29, 25, 7, 19, 31, 8, 7, 21, 7, 34, 7, 28, 17, 30, 7, 28, 24, 30, 7, 31, 2, 26, 7, 31, 12, 24, 7, 33, 14, 24, 1, 25, 32, 3, 7, 33, 27, 1, 8, 7, 13, 3, 8, 13, 6, 11, 8, 13, 14, 18, 8, 24, 24, 9, 8, 26, 14, 27, 8, 34, 21, 11, 9, 8, 22, 1, 9, 9, 31, 2, 9, 14, 21, 21, 1, 29, 22, 3, 9, 14, 21, 25, 9, 16, 13, 16, 9, 16, 24, 19, 9, 17, 1, 19, 9, 17, 10, 26, 9, 25, 28, 18, 9, 27, 3, 9, 9, 27, 33, 13, 9, 32, 27, 34, 9, 34, 8, 31, 2, 5, 11, 11, 10, 6, 25, 30, 10, 7, 12, 18, 10, 10, 3, 15, 10, 16, 15, 11, 10, 16, 34, 34, 10, 21, 22, 6, 10, 21, 32, 17, 10, 25, 9, 21, 10, 28, 13, 14, 10, 30, 11, 34, 2, 8, 16, 10, 10, 30, 34, 19, 10, 31, 1, 33, 10, 34, 4, 7, 11, 12, 26, 18, 11, 25, 27, 7, 11, 25, 27, 18, 11, 26, 8, 29, 11, 27, 18, 21, 11, 33, 7, 32, 11, 34, 34, 29, 2, 16, 8, 21]\n",
      "1200\n"
     ]
    },
    {
     "data": {
      "image/png": "[encoded data removed]",
      "text/plain": [
       "<Figure size 432x288 with 1 Axes>"
      ]
     },
     "metadata": {
      "needs_background": "light"
     },
     "output_type": "display_data"
    }
   ],
   "source": [
    "import matplotlib.pyplot as plt\n",
    "datas = np.array(data_image) #datas的类型从list转换为numpy\n",
    "m = 11\n",
    "print(files_name[m])\n",
    "print(data_lable)\n",
    "print(len(files_name))\n",
    "files_name_all = files_name[m].split(\"_\")\n",
    "# print(files_name_all[2][0])\n",
    "# add = [255 for i in range(125)]\n",
    "# add = np.array(add)\n",
    "# add = add.reshape(25,5)\n",
    "# result = np.c_[add,datas[m][0],add]\n",
    "# for n in datas:\n",
    "a = datas[m][0].reshape(25,25) #显示图片\n",
    "fig = plt.figure()\n",
    "plotwindow = fig.add_subplot(111)\n",
    "plt.imshow(a , cmap='gray')\n",
    "plt.show()"
   ]
  },
  {
   "cell_type": "code",
   "execution_count": 27,
   "metadata": {},
   "outputs": [
    {
     "data": {
      "image/png": "[encoded data removed]",
      "text/plain": [
       "<Figure size 432x288 with 1 Axes>"
      ]
     },
     "metadata": {
      "needs_background": "light"
     },
     "output_type": "display_data"
    }
   ],
   "source": [
    "y = [50,100,150,200,300]\n",
    "x = [80,97.5,91.6,93.75,99.17]\n",
    "plt.plot(y,x)\n",
    "plt.xlabel('x')\n",
    "plt.ylabel('y')\n",
    "plt.show()"
   ]
  },
  {
   "cell_type": "code",
   "execution_count": 10,
   "metadata": {},
   "outputs": [],
   "source": [
    "def threshold_demo(image):#二值化函数\n",
    "    gray = cv2.cvtColor(image, cv2.COLOR_RGB2GRAY) #把输入图像灰度化\n",
    "    #直接阈值化是对输入的单通道矩阵逐像素进行阈值分割。\n",
    "    ret, binary = cv2.threshold(gray, 0, 255, cv2.THRESH_BINARY | cv2.THRESH_TRIANGLE)\n",
    "#     print(\"threshold value %s\"%ret)\n",
    "    return binary"
   ]
  },
  {
   "cell_type": "code",
   "execution_count": 209,
   "metadata": {},
   "outputs": [
    {
     "name": "stdout",
     "output_type": "stream",
     "text": [
      "35\n"
     ]
    }
   ],
   "source": [
    "if torch.cuda.is_available():\n",
    "    DEVICE = torch.device(\"cuda\")\n",
    "else:\n",
    "    DEVICE = torch.device(\"cpu\")\n",
    "print(len(ind))"
   ]
  },
  {
   "cell_type": "code",
   "execution_count": 21,
   "metadata": {},
   "outputs": [
    {
     "name": "stdout",
     "output_type": "stream",
     "text": [
      "106_2_x.jpg\n"
     ]
    },
    {
     "data": {
      "image/png": "[encoded data removed]",
      "text/plain": [
       "<Figure size 432x288 with 1 Axes>"
      ]
     },
     "metadata": {
      "needs_background": "light"
     },
     "output_type": "display_data"
    },
    {
     "ename": "NameError",
     "evalue": "name 'dst' is not defined",
     "output_type": "error",
     "traceback": [
      "\u001b[1;31m---------------------------------------------------------------------------\u001b[0m",
      "\u001b[1;31mNameError\u001b[0m                                 Traceback (most recent call last)",
      "\u001b[1;32m<ipython-input-21-fa531a4048b5>\u001b[0m in \u001b[0;36m<module>\u001b[1;34m()\u001b[0m\n\u001b[0;32m     11\u001b[0m \u001b[0mplt\u001b[0m\u001b[1;33m.\u001b[0m\u001b[0mshow\u001b[0m\u001b[1;33m(\u001b[0m\u001b[1;33m)\u001b[0m\u001b[1;33m\u001b[0m\u001b[1;33m\u001b[0m\u001b[0m\n\u001b[0;32m     12\u001b[0m \u001b[1;33m\u001b[0m\u001b[0m\n\u001b[1;32m---> 13\u001b[1;33m \u001b[0mprint\u001b[0m\u001b[1;33m(\u001b[0m\u001b[0mdst\u001b[0m\u001b[1;33m.\u001b[0m\u001b[0mshape\u001b[0m\u001b[1;33m)\u001b[0m\u001b[1;33m\u001b[0m\u001b[1;33m\u001b[0m\u001b[0m\n\u001b[0m\u001b[0;32m     14\u001b[0m \u001b[0mcv2\u001b[0m\u001b[1;33m.\u001b[0m\u001b[0mimwrite\u001b[0m\u001b[1;33m(\u001b[0m\u001b[1;34m\"123.png\"\u001b[0m\u001b[1;33m,\u001b[0m \u001b[0mdst\u001b[0m\u001b[1;33m)\u001b[0m\u001b[1;33m\u001b[0m\u001b[1;33m\u001b[0m\u001b[0m\n",
      "\u001b[1;31mNameError\u001b[0m: name 'dst' is not defined"
     ]
    }
   ],
   "source": [
    "m = 30\n",
    "img = cv2.imread('data/one/'+files_name[m])\n",
    "# img = cv2.fastNlMeansDenoisingColored(img,None,20,20,7,21)\n",
    "img = threshold_demo(img)\n",
    "img = judge(img)\n",
    "print(files_name[m])\n",
    "a = img.reshape(25,15) #显示图片\n",
    "fig = plt.figure()\n",
    "plotwindow = fig.add_subplot(111)\n",
    "plt.imshow(a , cmap='gray')\n",
    "plt.show()\n",
    "\n",
    "print(dst.shape)\n",
    "cv2.imwrite(\"123.png\", dst)"
   ]
  },
  {
   "cell_type": "code",
   "execution_count": null,
   "metadata": {},
   "outputs": [],
   "source": []
  },
  {
   "cell_type": "code",
   "execution_count": null,
   "metadata": {},
   "outputs": [],
   "source": []
  },
  {
   "cell_type": "code",
   "execution_count": 203,
   "metadata": {},
   "outputs": [],
   "source": []
  },
  {
   "cell_type": "code",
   "execution_count": 206,
   "metadata": {},
   "outputs": [],
   "source": []
  },
  {
   "cell_type": "code",
   "execution_count": 7,
   "metadata": {},
   "outputs": [],
   "source": [
    "import torch as t\n",
    " \n",
    "class ResidualBlock(nn.Module):\n",
    "    #实现子module: Residual    Block\n",
    "    def __init__(self,inchannel,outchannel,stride=1,shortcut=None):\n",
    "        super(ResidualBlock,self).__init__()\n",
    "        self.left=nn.Sequential(\n",
    "            nn.Conv2d(inchannel,outchannel,3,stride,1,bias=False),\n",
    "            nn.BatchNorm2d(outchannel),\n",
    "            nn.ReLU(inplace=True),\n",
    "            nn.Conv2d(outchannel,outchannel,3,1,1,bias=False),\n",
    "            nn.BatchNorm2d(outchannel)\n",
    "        )\n",
    "        \n",
    "        self.right=shortcut\n",
    "        \n",
    "    def forward(self,x):\n",
    "        out=self.left(x)\n",
    "        residual=x if self.right is None else self.right(x)\n",
    "        out+=residual\n",
    "        return F.relu(out)\n",
    "    \n",
    "    \n",
    "class ResNet(nn.Module):\n",
    "    #实现主module:ResNet34\n",
    "    #ResNet34包含多个layer,每个layer又包含多个residual block\n",
    "    #用子module实现residual block , 用 _make_layer 函数实现layer\n",
    "    def __init__(self,num_classes=1000):\n",
    "        super(ResNet,self).__init__()\n",
    "        #重复的layer,分别有3,4,6,3个residual block\n",
    "        self.BN = nn.BatchNorm2d(1)\n",
    "#         48-3+1 = 46\n",
    "#         (46-3-1)/2 = 21\n",
    "#         (21-5-1)/2 = 21\n",
    "# torch.Size([64, 64, 25, 25])\n",
    "# torch.Size([64, 128, 13, 13])\n",
    "# torch.Size([64, 256, 7, 7])\n",
    "# torch.Size([64, 512, 4, 4])\n",
    "#         25-2+1 = 24\n",
    "#         (24-2)/2+1\n",
    "        self.layer1=self._make_layer(1,64,2)\n",
    "        self.layer2=self._make_layer(64,128,3,)\n",
    "        self.layer3=self._make_layer(128,256,2,stride=2)\n",
    "        self.layer4=self._make_layer(256,512,2,stride=2)\n",
    "        \n",
    "        #分类用的全连接\n",
    "        self.fc=nn.Linear(512,num_classes)\n",
    "        \n",
    "    def _make_layer(self,inchannel,outchannel,block_num,stride=1):\n",
    "        #构建layer,包含多个residual block\n",
    "        shortcut=nn.Sequential(\n",
    "            nn.Conv2d(inchannel,outchannel,1,stride,bias=False),\n",
    "            nn.BatchNorm2d(outchannel))\n",
    " \n",
    "        layers=[ ]\n",
    "        layers.append(ResidualBlock(inchannel,outchannel,stride,shortcut))\n",
    "        \n",
    "        for i in range(1,block_num):\n",
    "            layers.append(ResidualBlock(outchannel,outchannel))\n",
    "        return nn.Sequential(*layers)\n",
    "    \n",
    "    def forward(self,x):\n",
    "        x = self.BN(x)\n",
    "        x=self.layer1(x)\n",
    "        x=self.layer2(x)\n",
    "        x=self.layer3(x)\n",
    "        x=self.layer4(x)\n",
    "        x=F.avg_pool2d(x,7)\n",
    "        x=x.view(x.size(0),-1)\n",
    "        return self.fc(x)"
   ]
  },
  {
   "cell_type": "code",
   "execution_count": 39,
   "metadata": {},
   "outputs": [],
   "source": [
    "class Net(torch.nn.Module):\n",
    "    def __init__(self):\n",
    "        super(Net, self).__init__()\n",
    "        self.conv1 = torch.nn.Conv2d(1,20,2)\n",
    "\n",
    "#       25-2+1 = 24\n",
    "#       \n",
    "        #pooling\n",
    "#       5*5\n",
    "        self.conv2 = torch.nn.Conv2d(20,20,3)\n",
    "        self.linear1 = torch.nn.Linear(20*5*5,300)\n",
    "        self.linear5 = torch.nn.Linear(300,200)\n",
    "        self.linear6 = torch.nn.Linear(200,100)\n",
    "        self.linear7 = torch.nn.Linear(100,7)\n",
    "    def forward(self,x):\n",
    "        x = F.relu(self.conv1(x))\n",
    "#         print(x[0][1])\n",
    "#         pdb.set_trace()\n",
    "        x = F.max_pool2d(x, 2, 2)\n",
    "        x = F.relu(self.conv2(x))\n",
    "        x = F.max_pool2d(x, 2, 2)\n",
    "        x = x.view(-1,20*5*5)\n",
    "        x = F.relu(self.linear1(x))\n",
    "        x = F.relu(self.linear5(x))\n",
    "        x = F.relu(self.linear6(x))\n",
    "        x = F.relu(self.linear7(x))\n",
    "#         print(F.softmax(x, dim = 1)) #调试语句\n",
    "#         pdb.set_trace()\n",
    "        return x"
   ]
  },
  {
   "cell_type": "code",
   "execution_count": 28,
   "metadata": {},
   "outputs": [],
   "source": [
    "class ExpressionClassificationDataset(tud.Dataset): #定义数据读取类，此类用于读取数据，最为关键的函数是getitem（）\n",
    "    def __init__(self,training_image,training_lable, CEL): #此函数用于初始化\n",
    "        super(ExpressionClassificationDataset, self).__init__()\n",
    "        self.training_data = training_image.to(DEVICE)\n",
    "        if(CEL == True): #CEL 代表CrossEntropyLoss 此loss方程需要需要的结果y和其他loss方程不一样（单维），所以需要另外处理\n",
    "            self.training_lable = training_lable.to(DEVICE)\n",
    "        else:\n",
    "            self.training_lable = torch.zeros(len(training_lable),7,device = DEVICE)\n",
    "            for i in range(len(training_lable)):\n",
    "                self.training_lable[i][training_lable[i]] = 1\n",
    "        \n",
    "    def __len__(self): #此函数用于确定总数据大小，用于生成所有的bitch\n",
    "        return len(self.training_data)\n",
    "    def __getitem__(self, idx):\n",
    "        \n",
    "        return self.training_data[idx]/255.,self.training_lable[idx]; #/255是把数据的大小限制在0-1之间，能极大减少学习的时间"
   ]
  },
  {
   "cell_type": "code",
   "execution_count": 8,
   "metadata": {},
   "outputs": [],
   "source": [
    "#接下来使用dataset将数据封装成batch(成组)\n",
    "#dataset类有三个重要函数，\n",
    "#__init__初始化 在创建此类的时候魂运行一次，用于将数据读入类中\n",
    "#__len__测量大小，用于和下面那个函数配合使用\n",
    "#__getitem__，此函数是dataset可以生成batch的关键函数，此函数的返回值代表取出一个数据。\n",
    "#则此类会成组的调用__getitem__来生成数据，把每一个返回值拼装成成组的数据\n",
    "#例如，batch_size设定为40，则此类就会成组的运行40次__getitem__来返回数据，每40次把数据合成一组\n",
    "#一共运行__len__返回值除以40次，也就是生成__len__返回值除以40组的数据\n",
    "class ExpressionClassificationDataset(tud.Dataset): #定义数据读取类，此类用于读取数据，最为关键的函数是getitem（）\n",
    "    def __init__(self,training_image,training_lable, CEL): #此函数用于初始化\n",
    "        super(ExpressionClassificationDataset, self).__init__()\n",
    "        self.training_data = training_image.to(DEVICE)\n",
    "        if(CEL == True): #CEL 代表CrossEntropyLoss 此loss方程需要需要的结果y和其他loss方程不一样（单维），所以需要另外处理\n",
    "            self.training_lable = training_lable.to(DEVICE)\n",
    "        else:\n",
    "            self.training_lable = torch.zeros(len(training_lable),7,device = DEVICE)\n",
    "            for i in range(len(training_lable)):\n",
    "                self.training_lable[i][training_lable[i]] = 1\n",
    "        \n",
    "    def __len__(self): #此函数用于确定总数据大小，用于生成所有的bitch\n",
    "        return len(self.training_data)\n",
    "    def __getitem__(self, idx):\n",
    "        return self.training_data[idx]/255.,self.training_lable[idx]; #/255是把数据的大小限制在0-1之间，能极大减少学习的时间"
   ]
  },
  {
   "cell_type": "code",
   "execution_count": 30,
   "metadata": {},
   "outputs": [],
   "source": [
    "dataset = ExpressionClassificationDataset(training_image,training_lable,CEL = CEL)#用training_image和training_lable生成dataset类\n",
    "train_loader = tud.DataLoader(dataset,batch_size = 40, shuffle = False)#把数据提取成组,shuffle的意思是是否随机抽取"
   ]
  },
  {
   "cell_type": "code",
   "execution_count": 9,
   "metadata": {},
   "outputs": [],
   "source": [
    "class ExpressionClassification(object):\n",
    "    def __init__(self,training_image,training_lable,eta,batch_size,shuffle,CEL,model = None): #CEL 代表使用交叉熵计算loss\n",
    "        self.CEL = CEL\n",
    "        self.dataset = ExpressionClassificationDataset(training_image,training_lable,CEL = self.CEL)\n",
    "        self.split_9_1(len(training_image),batch_size) #把数据分为训练集和测试集  详细过程见下面的那个split函数\n",
    "        self.dataloader = tud.DataLoader(self.dataset, batch_size=batch_size, shuffle=shuffle)\n",
    "        if(None != model):\n",
    "            self.model = torch.load(model,map_location='cpu')\n",
    "        else:\n",
    "            if torch.cuda.is_available():\n",
    "                self.model = ResNet(35).cuda()  #定义模型类\n",
    "            else:\n",
    "                self.model = ResNet(35)\n",
    "        if (CEL == True):\n",
    "            self.loss_fn = torch.nn.CrossEntropyLoss() #定义loss_fn，loss方程\n",
    "        else:\n",
    "            self.loss_fn = torch.nn.MSELoss() #定义loss_fn，loss方程\n",
    "        self.optimizer = torch.optim.SGD(self.model.parameters(), lr = eta)#定义参数更新方式\n",
    "    def train(self): #开始训练\n",
    "        for e in range(NUM_EPOCHS): #每一个epochs\n",
    "            for i,(x,y) in enumerate (self.train_loader): #从dataloader中取出bitch数据进行训练\n",
    "#                 a = x[0].reshape(28,28) #显示图片\n",
    "#                 fig = plt.figure()\n",
    "#                 plotwindow = fig.add_subplot(111)\n",
    "#                 plt.imshow(a , cmap='gray')\n",
    "#                 plt.show()\n",
    "#                 print(y[0])\n",
    "                y_pred = self.model.forward(x)  #前项传播\n",
    "                \n",
    "                \n",
    "                if self.CEL == True:\n",
    "                    self.loss = self.loss_fn(y_pred,y.long()) #计算loss\n",
    "                else:\n",
    "                    self.loss = self.loss_fn(y_pred,y) #计算loss\n",
    "#                 if(i % 5 ==0):\n",
    "#                     print(y_pred)\n",
    "# #                 print(self.loss)\n",
    "#                 print(self.loss)\n",
    "                self.optimizer.zero_grad() #参数更新器重置为0\n",
    "                self.loss.backward()   # 反向传播\n",
    "                self.optimizer.step() #参数更新\n",
    "                \n",
    "            print(e,\":轮，loss = \",self.loss.item())\n",
    "            accuracy = self.test()\n",
    "            if e >= 100 and accuracy.item() >= 0.9:\n",
    "              print(\"准确率到90，保存模型\")\n",
    "              torch.save(self.model,\"model.pth\")\n",
    "            print(\"准确率为：\",accuracy);\n",
    "    def test(self): #测试函数\n",
    "        total_correct = 0.0\n",
    "        for i, (x,y) in enumerate(self.test_loader):\n",
    "            y_pred = self.model.forward(x)  #前项传播\n",
    "            if self.CEL == True:  #对于不同loss方程的处理\n",
    "                correct = self.correct_count_CEL(y,y_pred)\n",
    "            else:\n",
    "                correct = self.correct_count_MSE(y,y_pred)\n",
    "\n",
    "            total_correct = total_correct+correct\n",
    "#             pdb.set_trace()\n",
    "        \n",
    "        return total_correct/self.test_number\n",
    "    def correct_count_MSE(self,y,y_pred): #MES正确预测数量函数\n",
    "        return sum(a[torch.argmax(b)] == 1 for a, b in zip(y,y_pred))\n",
    "    def correct_count_CEL(self,y,y_pred): #CrossEntropyLoss正确预测数量函数\n",
    "        return sum(a == torch.argmax(b) for a, b in zip(y,y_pred))\n",
    "    def split_9_1(self,n_train,batch_size):\n",
    "        split = n_train // 10   #整数除法，要把数据分成9:1的训练集和测试集\n",
    "        self.test_number = split  #测试集总数\n",
    "        indices = list(range(n_train))\n",
    "        train_sampler = tud.sampler.SubsetRandomSampler(indices[split:])  #设置采样器\n",
    "        test_sampler = tud.sampler.SubsetRandomSampler(indices[:split])\n",
    "        self.train_loader = tud.DataLoader(self.dataset, sampler=train_sampler,batch_size = batch_size, shuffle=False)#利用采样的方法进行提取\n",
    "        self.test_loader = tud.DataLoader(self.dataset, sampler=test_sampler, batch_size = batch_size, shuffle=False)"
   ]
  },
  {
   "cell_type": "code",
   "execution_count": 10,
   "metadata": {},
   "outputs": [
    {
     "name": "stdout",
     "output_type": "stream",
     "text": [
      "tensor(0.9500)\n"
     ]
    }
   ],
   "source": [
    "NUM_EPOCHS = 300\n",
    "EC = ExpressionClassification(training_image,training_lable,eta = 0.005,batch_size = 32,shuffle = True,CEL = True,model = \"model.pth\")\n",
    "print(EC.test())"
   ]
  },
  {
   "cell_type": "code",
   "execution_count": 14,
   "metadata": {},
   "outputs": [
    {
     "name": "stdout",
     "output_type": "stream",
     "text": [
      "tensor(0.9583)\n"
     ]
    }
   ],
   "source": [
    "print(EC.test())"
   ]
  },
  {
   "cell_type": "code",
   "execution_count": null,
   "metadata": {},
   "outputs": [],
   "source": []
  },
  {
   "cell_type": "code",
   "execution_count": null,
   "metadata": {},
   "outputs": [],
   "source": []
  },
  {
   "cell_type": "code",
   "execution_count": null,
   "metadata": {},
   "outputs": [],
   "source": []
  },
  {
   "cell_type": "code",
   "execution_count": null,
   "metadata": {},
   "outputs": [],
   "source": []
  }
 ],
 "metadata": {
  "kernelspec": {
   "display_name": "Python 3",
   "language": "python",
   "name": "python3"
  },
  "language_info": {
   "codemirror_mode": {
    "name": "ipython",
    "version": 3
   },
   "file_extension": ".py",
   "mimetype": "text/x-python",
   "name": "python",
   "nbconvert_exporter": "python",
   "pygments_lexer": "ipython3",
   "version": "3.7.9"
  },
  "toc": {
   "base_numbering": 1,
   "nav_menu": {},
   "number_sections": true,
   "sideBar": true,
   "skip_h1_title": false,
   "title_cell": "Table of Contents",
   "title_sidebar": "Contents",
   "toc_cell": false,
   "toc_position": {},
   "toc_section_display": true,
   "toc_window_display": false
  }
 },
 "nbformat": 4,
 "nbformat_minor": 4
}
